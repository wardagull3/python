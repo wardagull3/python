{
 "cells": [
  {
   "cell_type": "markdown",
   "metadata": {},
   "source": [
    "# Choosing Best Model\n",
    "## Grid Search CV"
   ]
  },
  {
   "cell_type": "code",
   "execution_count": null,
   "metadata": {},
   "outputs": [],
   "source": [
    "import pandas as pd\n",
    "import numpy as np\n",
    "import seaborn as sns\n",
    "import matplotlib.pyplot as plt\n",
    "from sklearn.model_selection import GridSearchCV, cross_val_score, train_test_split\n",
    "from sklearn.linear_model import LogisticRegression\n",
    "from sklearn.svm import SVC\n",
    "from sklearn.tree import DecisionTreeClassifier\n",
    "from sklearn.ensemble import RandomForestClassifier\n",
    "from sklearn.neighbors import KNeighborsClassifier\n",
    "from sklearn.naive_bayes import GaussianNB\n",
    "\n",
    "df = sns.load_dataset(\"titanic\")\n",
    "X = df[['pclass', 'sex', 'age', 'sibsp', 'parch', 'fare']]\n",
    "y = df['survived']\n",
    "X = pd.get_dummies(X, columns=['sex'])\n",
    "X.age.fillna(value=X['age'].mean(), inplace=True)\n",
    "\n",
    "X_train, X_test, y_train, y_test = train_test_split(X, y, test_size=0.2, random_state=42)\n",
    "\n",
    "classifiers = {\n",
    "    \"kNN\": (KNeighborsClassifier(), {'n_neighbors': [3, 5, 7], 'weights': ['uniform', 'distance'], 'algorithm': ['auto', 'ball_tree', 'kd_tree', 'brute']}),\n",
    "    \"Decision Tree\": (DecisionTreeClassifier(), {'criterion': ['gini', 'entropy'], 'splitter': ['best', 'random'], 'max_depth': [3, 5, None], 'min_samples_split': [2, 5, 10]}),\n",
    "    \"Random Forest\": (RandomForestClassifier(), {'n_estimators': [100, 200, 300], 'criterion': ['gini', 'entropy'], 'max_depth': [3, 5, None], 'min_samples_split': [2, 5, 10]}),\n",
    "    \"SVM\": (SVC(), {'C': [0.1, 1, 10], 'kernel': ['linear', 'poly', 'rbf', 'sigmoid'], 'gamma': ['scale', 'auto']}),\n",
    "    \"Logistic Regression\": (LogisticRegression(), {'penalty': ['l1', 'l2', 'elasticnet', 'none'], 'C': [0.1, 1, 10], 'solver': ['newton-cg', 'lbfgs', 'liblinear', 'sag', 'saga']}),\n",
    "    \"Naive Bayes\": (GaussianNB(), {})\n",
    "}\n",
    "\n",
    "results = {}\n",
    "best_params = {}\n",
    "\n",
    "for name, (clf, params) in classifiers.items():\n",
    "    grid_search = GridSearchCV(clf, params, cv=5, scoring='f1_macro')\n",
    "    grid_search.fit(X_train, y_train)\n",
    "    results[name] = grid_search.best_score_\n",
    "    best_params[name] = grid_search.best_params_\n",
    "\n",
    "\n",
    "best_model = max(results, key=results.get)\n",
    "print(f'Best Model: {best_model}')\n",
    "print(f'Best Parameters: {best_params[best_model]}')\n"
   ]
  },
  {
   "cell_type": "markdown",
   "metadata": {},
   "source": [
    "### Step by Step"
   ]
  },
  {
   "cell_type": "code",
   "execution_count": 2,
   "metadata": {},
   "outputs": [],
   "source": [
    "import pandas as pd\n",
    "import numpy as np\n",
    "import seaborn as sns\n",
    "import matplotlib.pyplot as plt\n",
    "\n",
    "from sklearn.linear_model import LogisticRegression\n",
    "from sklearn.svm import SVC\n",
    "from sklearn.tree import DecisionTreeClassifier\n",
    "from sklearn.ensemble import RandomForestClassifier\n",
    "from sklearn.neighbors import KNeighborsClassifier\n",
    "from sklearn.naive_bayes import GaussianNB\n",
    "\n",
    "from sklearn.model_selection import GridSearchCV, cross_val_score, train_test_split\n",
    "from sklearn.metrics import accuracy_score\n",
    "\n",
    "df = sns.load_dataset(\"titanic\")\n",
    "X = df[['pclass', 'sex', 'age', 'sibsp', 'parch', 'fare']]\n",
    "y = df['survived']\n",
    "X = pd.get_dummies(X, columns=['sex'])\n",
    "X.age.fillna(value=X['age'].mean(), inplace=True)\n",
    "\n",
    "X_train, X_test, y_train, y_test = train_test_split(X, y, test_size=0.2, random_state=42)\n",
    "\n"
   ]
  },
  {
   "cell_type": "markdown",
   "metadata": {},
   "source": [
    "### knn"
   ]
  },
  {
   "cell_type": "code",
   "execution_count": 3,
   "metadata": {},
   "outputs": [
    {
     "name": "stdout",
     "output_type": "stream",
     "text": [
      ":Best parameters {'algorithm': 'auto', 'n_neighbors': 23, 'weights': 'distance'}\n",
      "Accuracy score on Training Data 0.7261400571259726\n",
      "Accuracy score on Testing Data 0.7374301675977654\n"
     ]
    }
   ],
   "source": [
    "model= KNeighborsClassifier()\n",
    "grid_params= { \n",
    "                'n_neighbors': np.arange(1, 30, 2),\n",
    "                'weights': ['uniform', 'distance'], \n",
    "                'algorithm': ['auto', 'ball_tree', 'kd_tree', 'brute']\n",
    "            }   \n",
    "\n",
    "grid_search = GridSearchCV(model, grid_params, cv=5, scoring='accuracy')\n",
    "\n",
    "grid_search.fit(X_train, y_train)\n",
    "\n",
    "ypred= grid_search.predict(X_test)\n",
    "\n",
    "print(':Best parameters', grid_search.best_params_)\n",
    "print('Accuracy score on Training Data', grid_search.best_score_)\n",
    "print('Accuracy score on Testing Data',  accuracy_score(y_test, ypred))"
   ]
  },
  {
   "cell_type": "markdown",
   "metadata": {},
   "source": [
    "### Decision Tree"
   ]
  },
  {
   "cell_type": "code",
   "execution_count": 4,
   "metadata": {},
   "outputs": [
    {
     "name": "stdout",
     "output_type": "stream",
     "text": [
      ":Best parameters {'criterion': 'entropy', 'max_depth': 3, 'min_samples_split': 2, 'splitter': 'best'}\n",
      "Accuracy score on Training Data 0.8230079779375554\n",
      "Accuracy score on Testing Data 0.7988826815642458\n"
     ]
    }
   ],
   "source": [
    " \n",
    "model= DecisionTreeClassifier()\n",
    "grid_params= { \n",
    "                'criterion': ['gini', 'entropy'], \n",
    "                'splitter': ['best', 'random'], \n",
    "                'max_depth': [3,5, None], \n",
    "                'min_samples_split': [2, 5, 10]\n",
    "            }   \n",
    "\n",
    "grid_search = GridSearchCV(model, grid_params, cv=5, scoring='accuracy')\n",
    "\n",
    "grid_search.fit(X_train, y_train)\n",
    "\n",
    "ypred= grid_search.predict(X_test)\n",
    "\n",
    "print(':Best parameters', grid_search.best_params_)\n",
    "print('Accuracy score on Training Data', grid_search.best_score_)\n",
    "print('Accuracy score on Testing Data',  accuracy_score(y_test, ypred))"
   ]
  },
  {
   "cell_type": "markdown",
   "metadata": {},
   "source": [
    "### Random Forest"
   ]
  },
  {
   "cell_type": "code",
   "execution_count": 5,
   "metadata": {},
   "outputs": [
    {
     "name": "stdout",
     "output_type": "stream",
     "text": [
      ":Best parameters {'criterion': 'gini', 'max_depth': 5, 'min_samples_split': 5, 'n_estimators': 200}\n",
      "Accuracy score on Training Data 0.8314291342460358\n",
      "Accuracy score on Testing Data 0.7988826815642458\n"
     ]
    }
   ],
   "source": [
    " \n",
    "model= RandomForestClassifier()\n",
    "grid_params= { \n",
    "                'n_estimators': [100, 200, 300], \n",
    "                'criterion': ['gini', 'entropy'], \n",
    "                'max_depth': [3, 5, None], \n",
    "                'min_samples_split': [2, 5, 10]\n",
    "            }   \n",
    "\n",
    "grid_search = GridSearchCV(model, grid_params, cv=5, scoring='accuracy')\n",
    "\n",
    "grid_search.fit(X_train, y_train)\n",
    "\n",
    "ypred= grid_search.predict(X_test)\n",
    "\n",
    "print(':Best parameters', grid_search.best_params_)\n",
    "print('Accuracy score on Training Data', grid_search.best_score_)\n",
    "print('Accuracy score on Testing Data',  accuracy_score(y_test, ypred))"
   ]
  },
  {
   "cell_type": "markdown",
   "metadata": {},
   "source": [
    "### SVM"
   ]
  },
  {
   "cell_type": "code",
   "execution_count": 12,
   "metadata": {},
   "outputs": [],
   "source": [
    " \n",
    "model= SVC()\n",
    "grid_params= { \n",
    "                'C': [0.1, 1, 10], \n",
    "                'kernel': [  'linear','poly','rbf', 'sigmoid'], \n",
    "                'gamma': ['scale', 'auto']\n",
    "            }   \n",
    "\n",
    "grid_search = GridSearchCV(model, grid_params, cv=5, scoring='accuracy')\n",
    "\n",
    "grid_search.fit(X_train, y_train)\n",
    "\n",
    "ypred= grid_search.predict(X_test)\n",
    "\n",
    "print(':Best parameters', grid_search.best_params_)\n",
    "print('Accuracy score on Training Data', grid_search.best_score_)\n",
    "print('Accuracy score on Testing Data',  accuracy_score(y_test, ypred))"
   ]
  },
  {
   "cell_type": "markdown",
   "metadata": {},
   "source": [
    "### Logistic Regression"
   ]
  },
  {
   "cell_type": "code",
   "execution_count": null,
   "metadata": {},
   "outputs": [],
   "source": [
    " \n",
    "model= LogisticRegression()\n",
    "grid_params= { \n",
    "                'penalty': ['l1', 'l2', 'elasticnet', 'none'], \n",
    "                'C': [0.1, 1, 10], \n",
    "                'solver': ['newton-cg', 'lbfgs', 'liblinear', 'sag', 'saga']\n",
    "            }   \n",
    "\n",
    "grid_search = GridSearchCV(model, grid_params, cv=5, scoring='accuracy')\n",
    "\n",
    "grid_search.fit(X_train, y_train)\n",
    "\n",
    "ypred= grid_search.predict(X_test)\n",
    "\n",
    "print(':Best parameters', grid_search.best_params_)\n",
    "print('Accuracy score on Training Data', grid_search.best_score_)\n",
    "print('Accuracy score on Testing Data',  accuracy_score(y_test, ypred))"
   ]
  },
  {
   "cell_type": "markdown",
   "metadata": {},
   "source": [
    "### Naive Bayes"
   ]
  },
  {
   "cell_type": "code",
   "execution_count": null,
   "metadata": {},
   "outputs": [],
   "source": [
    " \n",
    "model= GaussianNB()\n",
    "grid_params= {\n",
    "            }   \n",
    "\n",
    "grid_search = GridSearchCV(model, grid_params, cv=5, scoring='accuracy')\n",
    "\n",
    "grid_search.fit(X_train, y_train)\n",
    "\n",
    "ypred= grid_search.predict(X_test)\n",
    "\n",
    "print(':Best parameters', grid_search.best_params_)\n",
    "print('Accuracy score on Training Data', grid_search.best_score_)\n",
    "print('Accuracy score on Testing Data',  accuracy_score(y_test, ypred))"
   ]
  }
 ],
 "metadata": {
  "kernelspec": {
   "display_name": "Python 3",
   "language": "python",
   "name": "python3"
  },
  "language_info": {
   "codemirror_mode": {
    "name": "ipython",
    "version": 3
   },
   "file_extension": ".py",
   "mimetype": "text/x-python",
   "name": "python",
   "nbconvert_exporter": "python",
   "pygments_lexer": "ipython3",
   "version": "3.10.5"
  }
 },
 "nbformat": 4,
 "nbformat_minor": 2
}
