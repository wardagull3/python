{
 "cells": [
  {
   "cell_type": "markdown",
   "metadata": {},
   "source": [
    "# Choosing Best Model"
   ]
  },
  {
   "cell_type": "code",
   "execution_count": 3,
   "metadata": {},
   "outputs": [
    {
     "name": "stdout",
     "output_type": "stream",
     "text": [
      "Training set X: [11 47 85 28 93  5 66 65 35 16 49 34  7 95 27 19 81 25 62 13 24  3 17 38\n",
      "  8 78  6 64 36 89 56 99 54 43 50 67 46 68 61 97 79 41 58 48 98 57 75 32\n",
      " 94 59 63 84 37 29  1 52 21  2 23 87 91 74 86 82 20 60 71 14 92 51]\n",
      "Testing set X: [83 53 70 45 44 39 22 80 10  0 18 30 73 33 90  4 76 77 12 31 55 88 26 42\n",
      " 69 15 40 96  9 72]\n",
      "Training labels y: [11 47 85 28 93  5 66 65 35 16 49 34  7 95 27 19 81 25 62 13 24  3 17 38\n",
      "  8 78  6 64 36 89 56 99 54 43 50 67 46 68 61 97 79 41 58 48 98 57 75 32\n",
      " 94 59 63 84 37 29  1 52 21  2 23 87 91 74 86 82 20 60 71 14 92 51]\n",
      "Testing labels y: [83 53 70 45 44 39 22 80 10  0 18 30 73 33 90  4 76 77 12 31 55 88 26 42\n",
      " 69 15 40 96  9 72]\n"
     ]
    }
   ],
   "source": [
    "# Import the necessary libraries\n",
    "# import libraries\n",
    "import pandas as pd\n",
    "import numpy as np\n",
    "import seaborn as sns\n",
    "import matplotlib.pyplot as plt\n",
    "\n",
    "df = sns.load_dataset(\"titanic\")\n",
    "X = df[['pclass', 'sex', 'age', 'sibsp', 'parch', 'fare']]\n",
    "y = df['survived']\n",
    "X = pd.get_dummies(X, columns=['sex'])\n",
    "X.age.fillna(value = X['age'].mean(), inplace=True)\n",
    "\n",
    "\n",
    "from sklearn.linear_model import LogisticRegression\n",
    "from sklearn.svm import SVC\n",
    "from sklearn.tree import DecisionTreeClassifier\n",
    "from sklearn.ensemble import RandomForestClassifier\n",
    "from sklearn.neighbors import KNeighborsClassifier\n",
    "from sklearn.metrics import accuracy_score, f1_score, precision_score, recall_score\n",
    "from sklearn.model_selection import train_test_split\n",
    "\n",
    "X_train, X_test, y_train, y_test = train_test_split(X, y, test_size=0.2, random_state=42)\n",
    "\n",
    "models = [LogisticRegression(), SVC(), DecisionTreeClassifier(), RandomForestClassifier(), KNeighborsClassifier()]\n",
    "model_names = ['Logistic Regression', 'SVM', 'Decision Tree', 'Random Forest', 'KNN']\n",
    "\n",
    "models_scores = []\n",
    "for model, model_name in zip(models, model_names):\n",
    "    model.fit(X_train, y_train)\n",
    "    y_pred = model.predict(X_test)\n",
    "    accuracy = accuracy_score(y_test, y_pred)\n",
    "    models_scores.append([model_name,accuracy])\n",
    "\n",
    "sorted_models = sorted(models_scores, key=lambda x: x[1], reverse=True)\n",
    "for model in sorted_models:\n",
    "    print(\"Accuracy Score: \",f'{model[0]} : {model[1]:.2f}')"
   ]
  }
 ],
 "metadata": {
  "kernelspec": {
   "display_name": "Python 3",
   "language": "python",
   "name": "python3"
  },
  "language_info": {
   "codemirror_mode": {
    "name": "ipython",
    "version": 3
   },
   "file_extension": ".py",
   "mimetype": "text/x-python",
   "name": "python",
   "nbconvert_exporter": "python",
   "pygments_lexer": "ipython3",
   "version": "3.10.5"
  }
 },
 "nbformat": 4,
 "nbformat_minor": 2
}
